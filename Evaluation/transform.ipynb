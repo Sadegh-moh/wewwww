{
 "cells": [
  {
   "cell_type": "code",
   "execution_count": null,
   "id": "a09bddfe",
   "metadata": {},
   "outputs": [
    {
     "name": "stdout",
     "output_type": "stream",
     "text": [
      "Total number of questions: 30\n"
     ]
    }
   ],
   "source": [
    "import json\n",
    "\n",
    "\n",
    "with open(\"questions_text.json\", \"r\", encoding=\"utf-8\") as f:\n",
    "    data = json.load(f)\n",
    "\n",
    "count = len(data)\n",
    "\n",
    "print(f\"Total number of questions: {count}\")\n"
   ]
  },
  {
   "cell_type": "code",
   "execution_count": null,
   "id": "bd693fa8",
   "metadata": {},
   "outputs": [],
   "source": [
    "import json\n",
    "\n",
    "with open(\"questions_text.json\", \"r\", encoding=\"utf-8\") as f:\n",
    "    data = json.load(f)\n",
    "for item in data:\n",
    "    options = {\n",
    "        \"A\": item.pop(\"option1\"),\n",
    "        \"B\": item.pop(\"option2\"),\n",
    "        \"C\": item.pop(\"option3\"),\n",
    "        \"D\": item.pop(\"option4\"),\n",
    "    }\n",
    "\n",
    "    for key, value in options.items():\n",
    "        if value == item[\"answer\"]:\n",
    "            item[\"answer\"] = key\n",
    "            break\n",
    "\n",
    "\n",
    "    item.update(options)\n",
    "\n",
    "with open(\"questions_text.json\", \"w\", encoding=\"utf-8\") as f:\n",
    "    json.dump(data, f, ensure_ascii=False, indent=4)"
   ]
  },
  {
   "cell_type": "code",
   "execution_count": null,
   "id": "c5204598",
   "metadata": {},
   "outputs": [],
   "source": [
    "import json\n",
    "\n",
    "with open(\"questions_image.json\", \"r\", encoding=\"utf-8\") as f:\n",
    "    data = json.load(f)\n",
    "for item in data:\n",
    "    options = {\n",
    "        \"A\": item.pop(\"option1\"),\n",
    "        \"B\": item.pop(\"option2\"),\n",
    "        \"C\": item.pop(\"option3\"),\n",
    "        \"D\": item.pop(\"option4\"),\n",
    "    }\n",
    "\n",
    "    for key, value in options.items():\n",
    "        if value == item[\"answer\"]:\n",
    "            item[\"answer\"] = key\n",
    "            break\n",
    "\n",
    "\n",
    "    item.update(options)\n",
    "\n",
    "with open(\"questions_image.json\", \"w\", encoding=\"utf-8\") as f:\n",
    "    json.dump(data, f, ensure_ascii=False, indent=4)\n",
    "\n"
   ]
  },
  {
   "cell_type": "code",
   "execution_count": null,
   "id": "13635293",
   "metadata": {},
   "outputs": [
    {
     "name": "stdout",
     "output_type": "stream",
     "text": [
      "Total number of questions: 20\n"
     ]
    }
   ],
   "source": [
    "import json\n",
    "\n",
    "\n",
    "with open(\"questions_images.json\", \"r\", encoding=\"utf-8\") as f:\n",
    "    data = json.load(f)\n",
    "\n",
    "\n",
    "count = len(data)\n",
    "\n",
    "print(f\"Total number of questions: {count}\")\n"
   ]
  }
 ],
 "metadata": {
  "kernelspec": {
   "display_name": "Python 3",
   "language": "python",
   "name": "python3"
  },
  "language_info": {
   "codemirror_mode": {
    "name": "ipython",
    "version": 3
   },
   "file_extension": ".py",
   "mimetype": "text/x-python",
   "name": "python",
   "nbconvert_exporter": "python",
   "pygments_lexer": "ipython3",
   "version": "3.12.5"
  }
 },
 "nbformat": 4,
 "nbformat_minor": 5
}
